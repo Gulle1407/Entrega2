{
  "cells": [
    {
      "cell_type": "markdown",
      "id": "f6b51084-0562-4887-8b76-b039efd34892",
      "metadata": {},
      "source": [
        "# Ejercicio 1"
      ]
    },
    {
      "cell_type": "code",
      "execution_count": 1,
      "id": "25cdf95f-d9e1-4447-8c32-a64b2b39a067",
      "metadata": {
        "trusted": true
      },
      "outputs": [
        {
          "name": "stdout",
          "output_type": "stream",
          "text": [
            "Beautiful is better than ugly\n",
            "Explicit is better than implicit\n",
            "Simple is better than complex\n",
            "Complex is better than complicated\n",
            "Flat is better than nested\n",
            "Sparse is better than dense\n",
            "Unless explicitly silenced\n",
            "Now is better than never\n",
            "Namespaces are one honking great idea -- let's do more of those!\n"
          ]
        }
      ],
      "source": [
        "zen=\"Beautiful is better than ugly.\" \\\n",
        "\"Explicit is better than implicit.\" \\\n",
        "\"Simple is better than complex.\" \\\n",
        "\"Complex is better than complicated.\" \\\n",
        "\"Flat is better than nested.\" \\\n",
        "\"Sparse is better than dense.\" \\\n",
        "\"Readability counts.\" \\\n",
        "\"Special cases aren't special enough to break the rules.\" \\\n",
        "\"Although practicality beats purity.\" \\\n",
        "\"Errors should never pass silently.\" \\\n",
        "\"Unless explicitly silenced.\" \\\n",
        "\"In the face of ambiguity, refuse the temptation to guess.\" \\\n",
        "\"There should be one-- and preferably only one --obvious way to do it.\" \\\n",
        "\"Although that way may not be obvious at first unless you're Dutch.\" \\\n",
        "\"Now is better than never.\" \\\n",
        "\"Although never is often better than *right* now.\" \\\n",
        "\"If the implementation is hard to explain, it's a bad idea.\" \\\n",
        "\"If the implementation is easy to explain, it may be a good idea.\" \\\n",
        "\"Namespaces are one honking great idea -- let's do more of those!\"\n",
        "\n",
        "#se bajan las lineas porque la pep 8 recomienda que las lineas no pasen de los 72 lineas\n",
        "\n",
        "\n",
        "lista=zen.split(\".\")\n",
        "vocales=(\"A\",\"E\",\"I\",\"O\",\"U\",\"a\",\"e\",\"i\",\"o\",\"u\")\n",
        "for i in lista:\n",
        "    a=i.split()\n",
        "    if a[1].startswith(vocales):\n",
        "        print(i)"
      ]
    },
    {
      "cell_type": "markdown",
      "id": "9381c0f8-87c0-4a13-840f-bb3b82f178b8",
      "metadata": {},
      "source": [
        "# Ejercicio 2"
      ]
    },
    {
      "cell_type": "code",
      "execution_count": null,
      "id": "64a06d96-ee08-43a8-9314-3007e65b2352",
      "metadata": {
        "trusted": true
      },
      "outputs": [],
      "source": [
        "from src import searchLargestStr;\n",
        "titles = [\n",
        "\"Speedrun de Super Mario en tiempo récord\",\n",
        "\"Charla sobre desarrollo de videojuegos\",\n",
        "\"Jugando al nuevo FPS del momento con amigos\",\n",
        "\"Música en vivo: improvisaciones al piano\"\n",
        "]\n",
        "\n",
        "print(searchLargestStr(titles))"
      ]
    },
    {
      "cell_type": "markdown",
      "id": "8ec1db2c-e44d-4119-afeb-6792a9d50520",
      "metadata": {},
      "source": [
        "# Ejercicio 3"
      ]
    },
    {
      "cell_type": "code",
      "execution_count": null,
      "id": "ce26222e-9935-41e0-ae6a-d03399bb5331",
      "metadata": {
        "trusted": true
      },
      "outputs": [],
      "source": [
        "rules = \"\"\"Respeta a los demás. No se permiten insultos ni lenguaje\n",
        "ofensivo.\n",
        "Evita el spam. No publiques enlaces sospechosos o repetitivos.\n",
        "No compartas información personal.\n",
        "Usa los canales adecuados para cada tema.\n",
        "Sigue las instrucciones de los moderadores.\"\"\"\n",
        "\n",
        "lista=rules.split(\".\") #separamos reglas tomando como referencia el punto al final de cada una en una lista\n",
        "\n",
        "print(\"ingrese palabra clave a buscar\")\n",
        "clave=input() #asumo q ingresa un str\n",
        "if clave not in rules:\n",
        "    print(\"no hay la wea\")\n",
        "    exit(0)\n",
        "for i in lista:\n",
        "    if clave in i:\n",
        "        print(i)"
      ]
    },
    {
      "cell_type": "markdown",
      "id": "13807345-63e6-4e19-b079-f2ff9327d113",
      "metadata": {},
      "source": [
        "# Ejercicio 4"
      ]
    },
    {
      "cell_type": "code",
      "execution_count": null,
      "id": "47ec103a-9d78-43a1-a9d7-edc86d88cf24",
      "metadata": {
        "trusted": true
      },
      "outputs": [],
      "source": [
        "from Funciones import checkUsserName\n",
        "\n",
        "print(\"ingrese nombre de usuario\")\n",
        "nombre=input()\n",
        "\n",
        "print(checkUsserName(nombre))"
      ]
    },
    {
      "cell_type": "markdown",
      "id": "a7a1967a-fa42-414c-b41d-7163813341be",
      "metadata": {},
      "source": [
        "# Ejercicio 5"
      ]
    },
    {
      "cell_type": "code",
      "execution_count": null,
      "id": "ab4e81c3-fd0d-4d30-9aa5-67dffc0899cf",
      "metadata": {
        "trusted": true
      },
      "outputs": [
        {
          "name": "stdout",
          "output_type": "stream",
          "text": [
            "ola\n"
          ]
        }
      ],
      "source": [
        "from Funciones import evaluateReactionTime;\n",
        "print(\"ingrese tiempo de reaccion\")\n",
        "tiempo=input()\n",
        "while True:\n",
        "    if tiempo.isdigit() and int(tiempo)>0: #aprovecho q hay cicuito corto jijijija\n",
        "            tiempo=int(tiempo)\n",
        "            break\n",
        "    print(\"ingresa bien\")\n",
        "    tiempo=input()\n",
        "\n",
        "evaluateReactionTime(tiempo)"
      ]
    }
  ],
  "metadata": {
    "kernelspec": {
      "display_name": "Python (Pyodide)",
      "language": "python",
      "name": "python"
    },
    "language_info": {
      "codemirror_mode": {
        "name": "python",
        "version": 3
      },
      "file_extension": ".py",
      "mimetype": "text/x-python",
      "name": "python",
      "nbconvert_exporter": "python",
      "pygments_lexer": "ipython3",
      "version": "3.8"
    }
  },
  "nbformat": 4,
  "nbformat_minor": 5
}
