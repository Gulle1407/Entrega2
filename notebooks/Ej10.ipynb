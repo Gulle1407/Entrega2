{
  "metadata": {
    "kernelspec": {
      "name": "python",
      "display_name": "Python (Pyodide)",
      "language": "python"
    },
    "language_info": {
      "codemirror_mode": {
        "name": "python",
        "version": 3
      },
      "file_extension": ".py",
      "mimetype": "text/x-python",
      "name": "python",
      "nbconvert_exporter": "python",
      "pygments_lexer": "ipython3",
      "version": "3.8"
    }
  },
  "nbformat_minor": 5,
  "nbformat": 4,
  "cells": [
    {
      "id": "e4a49b13-65dd-49d0-a064-8874fc8f7eef",
      "cell_type": "markdown",
      "source": "# Ejercicio 10",
      "metadata": {}
    },
    {
      "id": "b889332f-79e6-4aea-8446-2d4b3299e012",
      "cell_type": "code",
      "source": "from src import processRounds\nrounds = [\n{\n'Shadow': {'kills': 2, 'assists': 1, 'deaths': True},\n'Blaze': {'kills': 1, 'assists': 0, 'deaths': False},\n'Viper': {'kills': 1, 'assists': 2, 'deaths': True},\n'Frost': {'kills': 0, 'assists': 1, 'deaths': False},\n'Reaper': {'kills': 1, 'assists': 1, 'deaths': False}\n},\n{\n'Shadow': {'kills': 0, 'assists': 2, 'deaths': False},\n'Blaze': {'kills': 2, 'assists': 0, 'deaths': True},\n'Viper': {'kills': 1, 'assists': 1, 'deaths': False},\n'Frost': {'kills': 2, 'assists': 1, 'deaths': True},\n'Reaper': {'kills': 0, 'assists': 1, 'deaths': False}\n},\n{\n'Shadow': {'kills': 1, 'assists': 0, 'deaths': False},\n'Blaze': {'kills': 2, 'assists': 2, 'deaths': True},\n'Viper': {'kills': 1, 'assists': 1, 'deaths': True},\n'Frost': {'kills': 0, 'assists': 1, 'deaths': False},\n'Reaper': {'kills': 1, 'assists': 1, 'deaths': False}\n},\n{\n'Shadow': {'kills': 2, 'assists': 1, 'deaths': False},\n'Blaze': {'kills': 1, 'assists': 0, 'deaths': True},\n'Viper': {'kills': 0, 'assists': 2, 'deaths': False},\n'Frost': {'kills': 1, 'assists': 1, 'deaths': True},\n'Reaper': {'kills': 1, 'assists': 1, 'deaths': False}\n},\n{\n'Shadow': {'kills': 1, 'assists': 2, 'deaths': True},\n'Blaze': {'kills': 0, 'assists': 1, 'deaths': False},\n'Viper': {'kills': 2, 'assists': 0, 'deaths': True},\n'Frost': {'kills': 1, 'assists': 1, 'deaths': False},\n'Reaper': {'kills': 1, 'assists': 1, 'deaths': True}\n} ]\n\nprocessRounds(rounds)",
      "metadata": {
        "trusted": true
      },
      "outputs": [],
      "execution_count": null
    }
  ]
}