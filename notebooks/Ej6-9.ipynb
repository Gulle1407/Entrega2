{
  "cells": [
    {
      "cell_type": "markdown",
      "id": "09a45a2a-c15e-4b5e-94aa-a9a7647fe65b",
      "metadata": {},
      "source": [
        "# Ejercicio 6"
      ]
    },
    {
      "cell_type": "code",
      "execution_count": null,
      "id": "c0c2eb36-7979-4e12-ae0f-ab6e58b04035",
      "metadata": {
        "trusted": true
      },
      "outputs": [],
      "source": [
        "descriptions = [\n",
        "\"Streaming de música en vivo con covers y composiciones\",\n",
        "\"Charla interactiva con la audiencia sobre series y películas\",\n",
        "\"Jugamos a juegos retro y charlamos sobre su historia\",\n",
        "\"Exploramos la mejor música de los 80s y 90s\",\n",
        "\"Programa de entretenimiento con noticias y curiosidades del mundogamer\",\n",
        "\"Sesión de charla con invitados especiales del mundo del streaming\",\n",
        "\"Música en directo con improvisaciones y peticiones del chat\",\n",
        "\"Un espacio para charlar relajada sobre tecnología y cultura digital\",\n",
        "\"Exploramos el impacto de la música en los videojuegos clásicos\"\n",
        "]\n",
        "musica=0\n",
        "charla=0\n",
        "entretenimiento=0\n",
        "for i in descriptions:\n",
        "    musica+=i.count(\" música \") + i.count(\" música.\")+i.count(\"Música \") #me aseguro de que cuente si esta al inicio al final y no cuando compone una palabra ej musical,charlaban\n",
        "    charla+=i.count(\" charla \") + i.count(\" charla.\")+i.count(\"Charla \")\n",
        "    entretenimiento+=i.count(\" entretenimiento \") + i.count(\" entretenimiento.\")+i.count(\"Entretenimiento \")\n",
        "print(musica,charla,entretenimiento)"
      ]
    },
    {
      "cell_type": "markdown",
      "id": "ad09d4e4-65c1-476b-a9f7-759434baa5cc",
      "metadata": {},
      "source": [
        "# Ejercicio 6 v2"
      ]
    },
    {
      "cell_type": "code",
      "execution_count": 2,
      "id": "6c99f2db-b2bb-4a02-ac09-ced10158eb66",
      "metadata": {
        "trusted": true
      },
      "outputs": [
        {
          "name": "stdout",
          "output_type": "stream",
          "text": [
            "4 2 1\n"
          ]
        }
      ],
      "source": [
        "descriptions = [\n",
        "\"Streaming de música en vivo con covers y composiciones\",\n",
        "\"Charla interactiva con la audiencia sobre series y películas\",\n",
        "\"Jugamos a juegos retro y charlamos sobre su historia\",\n",
        "\"Exploramos la mejor música de los 80s y 90s\",\n",
        "\"Programa de entretenimiento con noticias y curiosidades del mundogamer\",\n",
        "\"Sesión de charla con invitados especiales del mundo del streaming\",\n",
        "\"Música en directo con improvisaciones y peticiones del chat\",\n",
        "\"Un espacio para charlar relajada sobre tecnología y cultura digital\",\n",
        "\"Exploramos el impacto de la música en los videojuegos clásicos\"\n",
        "]\n",
        "\n",
        "cadena=\" \".join(descriptions) # el \" \" puede ser reemplazado por una variable limite=\" \" | limite.join() pa mas entendimiento, el limite marca que los va a separar\n",
        "musica=cadena.count(\" música \")+cadena.count(\"Música \")+cadena.count(\" música.\")\n",
        "charla=cadena.count(\" charla \")+cadena.count(\"Charla \")+cadena.count(\" charla.\")\n",
        "entretenimiento=cadena.count(\" entretenimiento \")+cadena.count(\"Entretenimiento \")+cadena.count(\" entretenimiento.\")\n",
        "\n",
        "print(musica,charla,entretenimiento)\n"
      ]
    },
    {
      "cell_type": "markdown",
      "id": "c628af2a-29e2-4867-941b-d6b6f8434582",
      "metadata": {},
      "source": [
        "# Ejercicio 8"
      ]
    },
    {
      "cell_type": "code",
      "execution_count": null,
      "id": "a5852c00-d31f-4e5f-b86d-ffdb0b57c9bd",
      "metadata": {
        "trusted": true
      },
      "outputs": [],
      "source": [
        "print(\"Ingrese la primera palabra\")\n",
        "p1=input()\n",
        "print(\"Ingrese la segunda palabra\")\n",
        "p2=input()\n",
        "\n",
        "#ordena alfabeticamente tambien se podria verificar si tienen la mimsma len() antes\n",
        "if sorted(p1)==sorted(p2):\n",
        "      print(\"es anargama\")\n",
        "else:\n",
        "    print(\"no es anargama\")\n"
      ]
    },
    {
      "cell_type": "markdown",
      "id": "00b907ce-6bce-4bf3-8fe8-75ef51bb4486",
      "metadata": {},
      "source": [
        "# Ejercicio 9"
      ]
    },
    {
      "cell_type": "code",
      "execution_count": null,
      "id": "a74d06e3-3c4f-416f-b2d2-bf7afedceb97",
      "metadata": {
        "trusted": true
      },
      "outputs": [],
      "source": [
        "from Funciones import evaluateAccent\n",
        "from Funciones import replaceAccent\n",
        "from Funciones import deleteVoid\n",
        "\n",
        "clients = [\n",
        "\" Ana López \", \"Pedro Gómez\", \"maria martínez\", \"Pedro Gómez \", \"\",\n",
        "\" Luis Rodríguez \", None, \"ana lópez\", \"JUAN PÉREZ\", \"MARTA SUÁREZ\",\n",
        "\"luis rodríguez\", \"maría martínez \", \" claudia torres\", \"CLAUDIA TORRES\",\n",
        "\" \", \"pedro gómez\", \"Juan Pérez\", None, \"Ricardo Fernández\", \"LAURA RAMOS\",\n",
        "\"carlos mendes\", \"RICARDO FERNÁNDEZ \", \" Laura ramos\", \"CARLOS MENDES\",\n",
        "\"alejandro gonzález\", \" ALEJANDRO GONZÁLEZ \", \"Patricia Vega\",\n",
        "\"patricia VEGA\", \"Andrés Ocampo\", \" andrés ocampo\", \"Monica Herrera\",\n",
        "\"MONICA HERRERA \", \"gabriela ruíz\", \"Gabriela Ruíz\", \"sandra morales\",\n",
        "\"SANDRA MORALES\", \"miguel ángel\", \"Miguel Ángel \", \" Damián Castillo\",\n",
        "\"Damián Castillo \", None, \"\", \" \"\n",
        "]\n",
        "\n",
        "deleteVoid(clients)\n",
        "\n",
        "for i in range(len(clients)):\n",
        "    if clients[i].count(\" \") >= 2:\n",
        "        clients[i] = clients[i].strip()\n",
        "    clients[i] = clients[i].lower()\n",
        "    if(evaluateAccent(clients[i])):\n",
        "        clients[i]=replaceAccent(clients[i])\n",
        "    aux=clients[i].split()\n",
        "    aux[0]=aux[0].capitalize()\n",
        "    aux[1]=aux[1].capitalize()\n",
        "    clients[i]=\" \".join(aux)\n",
        "\n",
        "newClients=set(clients)\n",
        "print(newClients)"
      ]
    }
  ],
  "metadata": {
    "kernelspec": {
      "display_name": "Python (Pyodide)",
      "language": "python",
      "name": "python"
    },
    "language_info": {
      "codemirror_mode": {
        "name": "python",
        "version": 3
      },
      "file_extension": ".py",
      "mimetype": "text/x-python",
      "name": "python",
      "nbconvert_exporter": "python",
      "pygments_lexer": "ipython3",
      "version": "3.8"
    }
  },
  "nbformat": 4,
  "nbformat_minor": 5
}
